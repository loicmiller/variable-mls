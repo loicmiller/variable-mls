{
 "cells": [
  {
   "cell_type": "code",
   "execution_count": 1,
   "metadata": {},
   "outputs": [],
   "source": [
    "import math\n",
    "\n",
    "genesisTarget = 26959535291011309493156476344723991336010898738574164086137773096960\n",
    "IS_EPSILON_TARGET_DEFINITION = True\n",
    "\n",
    "class Block:\n",
    "    # `target` and `_hash` are `int`s.\n",
    "    def __init__(self, height, target, _hash, timestamp):\n",
    "        self.height = height\n",
    "        self.target = target\n",
    "        self.timestamp = timestamp\n",
    "        # As penultimate and most minimal difference targets differ only up to the third decimal.\n",
    "        self.diff = int(round(genesisTarget / target, 4)) if IS_EPSILON_TARGET_DEFINITION else genesisTarget / target\n",
    "        self.level = level(_hash, target)        \n",
    "\n",
    "    def __hash__(self):\n",
    "        return hash((self.height, self.target, self.diff, self.level))\n",
    "\n",
    "    def __eq__(self, other):\n",
    "        return isinstance(other, self.__class__) and self.__dict__ == other.__dict__\n",
    "\n",
    "    def __lt__(self, other):\n",
    "        return self.height < other.height\n",
    "\n",
    "    def __repr__(self):\n",
    "        return f\"Block({self.height}, {self.target}, {self.diff}, {self.level})\"\n",
    "\n",
    "    def __str__(self):\n",
    "        return f\"height: {self.height}, target: {self.target}, diff: {self.diff}, level: {self.level}\"\n",
    "\n",
    "\n",
    "def level(_hash, target):\n",
    "    ratio = _hash / target\n",
    "    return math.floor(-math.log2(ratio))"
   ]
  },
  {
   "cell_type": "code",
   "execution_count": 10,
   "metadata": {},
   "outputs": [],
   "source": [
    "proof = {\n",
    "    0: [\n",
    "        Block(1, 100, 12345, 1632218227),\n",
    "        Block(2, 95, 12346, 1632218230),\n",
    "        Block(3, 90, 12347, 1632218235),\n",
    "        Block(4, 85, 12348, 1632218240),\n",
    "        Block(5, 80, 12349, 1632218245),\n",
    "        Block(6, 75, 12350, 1632218250),\n",
    "        Block(7, 70, 12351, 1632218255),\n",
    "        Block(8, 65, 12352, 1632218260),\n",
    "        Block(9, 60, 12353, 1632218265),\n",
    "        Block(10, 55, 12354, 1632218270),\n",
    "    ],\n",
    "    1: [\n",
    "        Block(1, 100, 12355, 1632218228),\n",
    "        Block(3, 90, 12357, 1632218236),\n",
    "        Block(5, 80, 12359, 1632218246),\n",
    "        Block(7, 70, 12361, 1632218256),\n",
    "        Block(9, 60, 12363, 1632218266),\n",
    "    ],\n",
    "    2: [\n",
    "        Block(1, 100, 12365, 1632218229),\n",
    "        Block(5, 80, 12369, 1632218247),\n",
    "        Block(9, 60, 12373, 1632218267),\n",
    "    ],\n",
    "}\n",
    "\n",
    "proof_2 = {\n",
    "    0: [\n",
    "        Block(1, 100, 12345, 1632218227),\n",
    "        Block(2, 95, 12346, 1632218230),\n",
    "        Block(3, 90, 12347, 1632218235),\n",
    "        Block(4, 85, 12348, 1632218240),\n",
    "        Block(5, 80, 12349, 1632218245),\n",
    "        Block(6, 75, 12350, 1632218250),\n",
    "        Block(7, 70, 12351, 1632218255),\n",
    "        Block(8, 65, 12352, 1632218260),\n",
    "        Block(9, 60, 12353, 1632218265),\n",
    "        Block(10, 55, 12354, 1632218270),\n",
    "        Block(11, 50, 12355, 1632218275),\n",
    "        Block(12, 45, 12356, 1632218280),\n",
    "    ],\n",
    "    1: [\n",
    "        Block(1, 100, 12355, 1632218228),\n",
    "        Block(3, 90, 12357, 1632218236),\n",
    "        Block(5, 80, 12359, 1632218246),\n",
    "        Block(7, 70, 12361, 1632218256),\n",
    "        Block(9, 60, 12363, 1632218266),\n",
    "        Block(11, 50, 12355, 1632218275),\n",
    "        Block(12, 45, 12356, 1632218280),\n",
    "    ],\n",
    "    2: [\n",
    "        Block(1, 100, 12365, 1632218229),\n",
    "        Block(5, 80, 12369, 1632218247),\n",
    "        Block(9, 60, 12373, 1632218267),\n",
    "        Block(11, 50, 12355, 1632218275),\n",
    "    ],\n",
    "}\n",
    "\n",
    "def print_proof(Π):\n",
    "    for μ in sorted(Π.keys(), reverse=True):\n",
    "        for block in Π[μ]:\n",
    "            print(f\"Block({block.height}) \", end=\"\")\n",
    "        if Π[μ]:\n",
    "            print(\"\")"
   ]
  },
  {
   "cell_type": "code",
   "execution_count": 11,
   "metadata": {},
   "outputs": [],
   "source": [
    "def separate_into_π_and_χ(Π, k):\n",
    "    π = {}\n",
    "    χ = {}\n",
    "    if not Π:\n",
    "        return π, χ\n",
    "\n",
    "    if len(Π[0]) <= k:\n",
    "        for μ, blocks in Π.items():\n",
    "            π[μ] = []\n",
    "            χ[μ] = blocks\n",
    "    else:\n",
    "        π[0] = Π[0][:-k]\n",
    "        χ[0] = Π[0][-k:]\n",
    "        block_heights_to_remove = [block.height for block in χ[0]]\n",
    "        for μ in range(1, len(Π)):\n",
    "            χ[μ] = []\n",
    "            stable_part_index = len(Π[μ])\n",
    "            for block in reversed(Π[μ]):\n",
    "                if block.height in block_heights_to_remove:\n",
    "                    χ[μ].insert(0, block)\n",
    "                    stable_part_index -= 1\n",
    "                else:\n",
    "                    break\n",
    "            π[μ] = Π[μ][:stable_part_index]\n",
    "    return π, χ"
   ]
  },
  {
   "cell_type": "code",
   "execution_count": 17,
   "metadata": {},
   "outputs": [
    {
     "name": "stdout",
     "output_type": "stream",
     "text": [
      "Block(1) Block(5) \n",
      "Block(1) Block(3) Block(5) \n",
      "Block(1) Block(2) Block(3) Block(4) Block(5) \n"
     ]
    }
   ],
   "source": [
    "π, χ = separate_into_π_and_χ(proof, 5)\n",
    "print_proof(π)"
   ]
  },
  {
   "cell_type": "code",
   "execution_count": 18,
   "metadata": {},
   "outputs": [
    {
     "name": "stdout",
     "output_type": "stream",
     "text": [
      "Block(9) \n",
      "Block(7) Block(9) \n",
      "Block(6) Block(7) Block(8) Block(9) Block(10) \n"
     ]
    }
   ],
   "source": [
    "print_proof(χ)"
   ]
  },
  {
   "cell_type": "code",
   "execution_count": null,
   "metadata": {},
   "outputs": [],
   "source": []
  }
 ],
 "metadata": {
  "kernelspec": {
   "display_name": "Python 3",
   "language": "python",
   "name": "python3"
  },
  "language_info": {
   "codemirror_mode": {
    "name": "ipython",
    "version": 3
   },
   "file_extension": ".py",
   "mimetype": "text/x-python",
   "name": "python",
   "nbconvert_exporter": "python",
   "pygments_lexer": "ipython3",
   "version": "3.10.12"
  },
  "orig_nbformat": 4
 },
 "nbformat": 4,
 "nbformat_minor": 2
}
